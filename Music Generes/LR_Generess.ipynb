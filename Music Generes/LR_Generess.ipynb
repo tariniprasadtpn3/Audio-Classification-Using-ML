{
 "cells": [
  {
   "cell_type": "code",
   "execution_count": 1,
   "id": "63f2a011-ae53-4365-a0aa-1a7c43d5e0d3",
   "metadata": {},
   "outputs": [],
   "source": [
    "import pandas as pd\n",
    "import numpy as np\n",
    "import matplotlib.pyplot as plt\n",
    "import seaborn as sns"
   ]
  },
  {
   "cell_type": "code",
   "execution_count": 2,
   "id": "745351ae-7a7c-48ea-9c88-ec9c2160b71e",
   "metadata": {},
   "outputs": [],
   "source": [
    "from sklearn.ensemble import RandomForestClassifier\n",
    "from sklearn.svm import SVC\n",
    "from sklearn.naive_bayes import GaussianNB\n",
    "\n",
    "from sklearn.model_selection import train_test_split\n",
    "from sklearn.metrics import classification_report, confusion_matrix\n",
    "from sklearn.model_selection import GridSearchCV\n",
    "from sklearn.preprocessing import MinMaxScaler"
   ]
  },
  {
   "cell_type": "code",
   "execution_count": 3,
   "id": "394fa773-48ac-4e9f-ab02-aed279ae7d2a",
   "metadata": {},
   "outputs": [],
   "source": [
    "import librosa\n",
    "import librosa.display\n",
    "import IPython.display as ipd"
   ]
  },
  {
   "cell_type": "code",
   "execution_count": 4,
   "id": "a187c83f-cb0d-4428-8a6e-2546eb85fa58",
   "metadata": {},
   "outputs": [
    {
     "data": {
      "text/html": [
       "<div>\n",
       "<style scoped>\n",
       "    .dataframe tbody tr th:only-of-type {\n",
       "        vertical-align: middle;\n",
       "    }\n",
       "\n",
       "    .dataframe tbody tr th {\n",
       "        vertical-align: top;\n",
       "    }\n",
       "\n",
       "    .dataframe thead th {\n",
       "        text-align: right;\n",
       "    }\n",
       "</style>\n",
       "<table border=\"1\" class=\"dataframe\">\n",
       "  <thead>\n",
       "    <tr style=\"text-align: right;\">\n",
       "      <th></th>\n",
       "      <th>Folder_Name</th>\n",
       "      <th>File_Name</th>\n",
       "      <th>Class_ID</th>\n",
       "      <th>Class</th>\n",
       "    </tr>\n",
       "  </thead>\n",
       "  <tbody>\n",
       "    <tr>\n",
       "      <th>0</th>\n",
       "      <td>blues</td>\n",
       "      <td>blues.00000.au</td>\n",
       "      <td>1</td>\n",
       "      <td>blues</td>\n",
       "    </tr>\n",
       "    <tr>\n",
       "      <th>1</th>\n",
       "      <td>blues</td>\n",
       "      <td>blues.00001.au</td>\n",
       "      <td>1</td>\n",
       "      <td>blues</td>\n",
       "    </tr>\n",
       "    <tr>\n",
       "      <th>2</th>\n",
       "      <td>blues</td>\n",
       "      <td>blues.00002.au</td>\n",
       "      <td>1</td>\n",
       "      <td>blues</td>\n",
       "    </tr>\n",
       "    <tr>\n",
       "      <th>3</th>\n",
       "      <td>blues</td>\n",
       "      <td>blues.00003.au</td>\n",
       "      <td>1</td>\n",
       "      <td>blues</td>\n",
       "    </tr>\n",
       "    <tr>\n",
       "      <th>4</th>\n",
       "      <td>blues</td>\n",
       "      <td>blues.00004.au</td>\n",
       "      <td>1</td>\n",
       "      <td>blues</td>\n",
       "    </tr>\n",
       "  </tbody>\n",
       "</table>\n",
       "</div>"
      ],
      "text/plain": [
       "  Folder_Name       File_Name  Class_ID  Class\n",
       "0       blues  blues.00000.au         1  blues\n",
       "1       blues  blues.00001.au         1  blues\n",
       "2       blues  blues.00002.au         1  blues\n",
       "3       blues  blues.00003.au         1  blues\n",
       "4       blues  blues.00004.au         1  blues"
      ]
     },
     "execution_count": 4,
     "metadata": {},
     "output_type": "execute_result"
    }
   ],
   "source": [
    "df = pd.read_csv(\"D:\\\\Project Working\\\\GTZAN\\\\genres\\\\genres_data.csv\")\n",
    "df.head()"
   ]
  },
  {
   "cell_type": "code",
   "execution_count": 5,
   "id": "3cd714fd-735e-46dc-ba88-e1a846bfda60",
   "metadata": {},
   "outputs": [],
   "source": [
    "class_name = ['blues', 'classical', 'country', 'disco', 'hiphop', 'jazz', 'metal', 'pop', 'reggae', 'rock']"
   ]
  },
  {
   "cell_type": "code",
   "execution_count": 6,
   "id": "8c2ece25-be9e-4f0f-ab47-78711c9090bf",
   "metadata": {},
   "outputs": [
    {
     "data": {
      "text/plain": [
       "blues        100\n",
       "classical    100\n",
       "country      100\n",
       "disco        100\n",
       "hiphop       100\n",
       "jazz         100\n",
       "metal        100\n",
       "pop          100\n",
       "reggae       100\n",
       "rock         100\n",
       "Name: Class, dtype: int64"
      ]
     },
     "execution_count": 6,
     "metadata": {},
     "output_type": "execute_result"
    }
   ],
   "source": [
    "df['Class'].value_counts()"
   ]
  },
  {
   "cell_type": "code",
   "execution_count": 7,
   "id": "5c602953-e090-46ec-81fa-ce4a2b44e2bb",
   "metadata": {},
   "outputs": [],
   "source": [
    "features = []\n",
    "labels = []\n",
    "\n",
    "def parser():\n",
    "    # Function to load files and extract features\n",
    "    for i in range(df.shape[0]):\n",
    "        file_name = 'D:\\\\Project Working\\\\GTZAN\\\\genres\\\\' + str(df[\"Folder_Name\"][i]) + '\\\\' + df[\"File_Name\"][i]\n",
    "        # Here kaiser_fast is a technique used for faster extraction\n",
    "        data, sr = librosa.load(file_name, res_type='kaiser_fast') \n",
    "        mels = np.mean(librosa.feature.melspectrogram(y = data, sr = sr), axis=1)        \n",
    "        features.append(mels)\n",
    "        labels.append(df[\"Class_ID\"][i])\n",
    "\n",
    "    return features, labels"
   ]
  },
  {
   "cell_type": "code",
   "execution_count": 8,
   "id": "3a0de70b-c1e7-4afb-b46c-f39d3cffe611",
   "metadata": {},
   "outputs": [],
   "source": [
    "x, y = parser()"
   ]
  },
  {
   "cell_type": "code",
   "execution_count": 9,
   "id": "a22e4d58-1209-4ffb-933e-ddf646576c4d",
   "metadata": {},
   "outputs": [
    {
     "name": "stdout",
     "output_type": "stream",
     "text": [
      "(1000, 128)\n",
      "(1000,)\n"
     ]
    }
   ],
   "source": [
    "X = np.array(x)\n",
    "Y = np.array(y)\n",
    "\n",
    "print(X.shape)\n",
    "print(Y.shape)"
   ]
  },
  {
   "cell_type": "code",
   "execution_count": 10,
   "id": "c64a1c7d-6f0f-422f-859d-3a782be676e8",
   "metadata": {},
   "outputs": [],
   "source": [
    "X_train, X_test, y_train, y_test = train_test_split(X, Y, random_state = 1)"
   ]
  },
  {
   "cell_type": "code",
   "execution_count": 11,
   "id": "cf875108-f747-4536-ac40-c75b6a966013",
   "metadata": {},
   "outputs": [
    {
     "data": {
      "text/plain": [
       "((750, 128), (750,), (250, 128), (250,))"
      ]
     },
     "execution_count": 11,
     "metadata": {},
     "output_type": "execute_result"
    }
   ],
   "source": [
    "X_train.shape, y_train.shape, X_test.shape, y_test.shape"
   ]
  },
  {
   "cell_type": "code",
   "execution_count": 12,
   "id": "255cd515-8bd0-44c9-a211-a0a1b4718b8a",
   "metadata": {},
   "outputs": [],
   "source": [
    "from sklearn.preprocessing import StandardScaler\n",
    "from sklearn.metrics import accuracy_score\n",
    "scaler = StandardScaler()\n",
    "\n",
    "X_train = scaler.fit_transform(X_train)\n",
    "X_test = scaler.transform(X_test)"
   ]
  },
  {
   "cell_type": "code",
   "execution_count": 13,
   "id": "464f2346-6173-4bfd-a337-8b552076f309",
   "metadata": {},
   "outputs": [
    {
     "data": {
      "text/plain": [
       "LogisticRegression(random_state=0, solver='liblinear')"
      ]
     },
     "execution_count": 13,
     "metadata": {},
     "output_type": "execute_result"
    }
   ],
   "source": [
    "from sklearn.linear_model import LogisticRegression\n",
    "\n",
    "\n",
    "# instantiate the model\n",
    "logreg = LogisticRegression(solver='liblinear', random_state=0)\n",
    "\n",
    "\n",
    "# fit the model\n",
    "logreg.fit(X_train, y_train)"
   ]
  },
  {
   "cell_type": "code",
   "execution_count": 14,
   "id": "cf328ccc-3bee-4423-ba4e-8f0d133251ba",
   "metadata": {},
   "outputs": [
    {
     "data": {
      "text/plain": [
       "array([ 6,  9,  9,  7, 10,  5,  3, 10, 10,  1,  5, 10,  3,  8, 10,  2,  2,\n",
       "        1,  7,  9,  5,  5,  2,  6,  5,  2,  2,  7,  2,  4,  1,  8,  8,  9,\n",
       "        5, 10,  1,  8,  7,  7,  3,  7,  5,  2,  9,  3,  4,  1,  9,  3,  9,\n",
       "        3,  5,  1, 10,  7,  3,  7,  9, 10,  7,  9,  4,  8,  9,  9,  5,  9,\n",
       "        2,  1,  8,  4, 10, 10,  5,  1,  7,  9, 10,  7,  3, 10,  8,  8,  6,\n",
       "        6,  5,  9,  6,  2,  7,  2,  6, 10,  7,  7,  6,  2,  1,  7,  4,  1,\n",
       "        1,  3,  9,  9,  2,  6,  2,  6,  4,  8,  5,  7,  9,  2,  2,  5,  2,\n",
       "        8,  2,  3,  9,  2,  5,  3,  3,  8,  7, 10,  6,  1,  7,  1, 10,  2,\n",
       "        8,  9, 10,  5,  6,  2,  4,  1,  2,  1,  2,  7,  1,  4,  2,  2,  9,\n",
       "        2,  7, 10,  8,  7,  8,  3,  2,  4,  2,  7,  9,  5,  6,  2,  5,  2,\n",
       "        1,  2,  2,  5,  6,  7,  2,  2,  5,  1,  1,  1,  6,  1,  2,  7,  3,\n",
       "        2,  2,  1,  7,  5,  3,  2, 10,  4,  5,  2,  2,  5,  9,  3, 10, 10,\n",
       "        2,  7,  1,  7,  5,  3,  7, 10,  9,  4,  9, 10,  4,  2,  7,  7,  4,\n",
       "        9, 10,  1,  2,  8,  2,  8, 10,  9,  4, 10,  9,  5,  4, 10, 10,  7,\n",
       "        2,  1,  7, 10,  1,  7,  8,  4,  5,  5,  2,  6], dtype=int64)"
      ]
     },
     "execution_count": 14,
     "metadata": {},
     "output_type": "execute_result"
    }
   ],
   "source": [
    "y_pred_test = logreg.predict(X_test)\n",
    "\n",
    "y_pred_test"
   ]
  },
  {
   "cell_type": "code",
   "execution_count": 15,
   "id": "ce4d7e63-03a5-4e35-b628-48d4d27da343",
   "metadata": {},
   "outputs": [
    {
     "name": "stdout",
     "output_type": "stream",
     "text": [
      "Model accuracy score: 0.4920\n"
     ]
    }
   ],
   "source": [
    "from sklearn.metrics import accuracy_score\n",
    "\n",
    "print('Model accuracy score: {0:0.4f}'. format(accuracy_score(y_test, y_pred_test)))"
   ]
  },
  {
   "cell_type": "code",
   "execution_count": 16,
   "id": "a2eaa526-ace0-4974-89c8-f84c24e4a7a5",
   "metadata": {},
   "outputs": [
    {
     "data": {
      "text/plain": [
       "array([[12,  1,  1,  1,  1,  1,  3,  1,  3,  2],\n",
       "       [ 0, 20,  1,  0,  0,  0,  2,  0,  0,  2],\n",
       "       [ 4,  3,  5,  1,  1,  1,  1,  0,  1,  4],\n",
       "       [ 1,  1,  1,  7,  1,  0,  4,  1,  1,  7],\n",
       "       [ 0,  1,  0,  3, 13,  0,  2,  0,  6,  0],\n",
       "       [ 3, 15,  1,  2,  0,  9,  0,  0,  0,  1],\n",
       "       [ 1,  1,  1,  0,  1,  0, 19,  0,  0,  2],\n",
       "       [ 0,  1,  1,  1,  3,  1,  0, 15,  1,  1],\n",
       "       [ 0,  1,  2,  0,  4,  0,  0,  0, 15,  1],\n",
       "       [ 5,  1,  4,  1,  2,  3,  2,  0,  0,  8]], dtype=int64)"
      ]
     },
     "execution_count": 16,
     "metadata": {},
     "output_type": "execute_result"
    }
   ],
   "source": [
    "confusion_matrix(y_test, y_pred_test)"
   ]
  },
  {
   "cell_type": "code",
   "execution_count": 17,
   "id": "627ded10-6a4e-4865-83d7-da3073ae5674",
   "metadata": {},
   "outputs": [
    {
     "data": {
      "image/png": "[encoded data removed]",
      "text/plain": [
       "<Figure size 864x720 with 2 Axes>"
      ]
     },
     "metadata": {
      "needs_background": "light"
     },
     "output_type": "display_data"
    }
   ],
   "source": [
    "plt.figure(figsize = (12, 10))\n",
    "sns.heatmap(confusion_matrix(y_test, y_pred_test), \n",
    "            annot = True, linewidths = 2, fmt=\"d\", \n",
    "            xticklabels = class_name,\n",
    "            yticklabels = class_name)\n",
    "plt.show()"
   ]
  },
  {
   "cell_type": "code",
   "execution_count": null,
   "id": "92dce60c-9e6b-4e8a-9aa3-b0a409c5eb24",
   "metadata": {},
   "outputs": [],
   "source": []
  }
 ],
 "metadata": {
  "kernelspec": {
   "display_name": "Python 3 (ipykernel)",
   "language": "python",
   "name": "python3"
  },
  "language_info": {
   "codemirror_mode": {
    "name": "ipython",
    "version": 3
   },
   "file_extension": ".py",
   "mimetype": "text/x-python",
   "name": "python",
   "nbconvert_exporter": "python",
   "pygments_lexer": "ipython3",
   "version": "3.10.0"
  }
 },
 "nbformat": 4,
 "nbformat_minor": 5
}
