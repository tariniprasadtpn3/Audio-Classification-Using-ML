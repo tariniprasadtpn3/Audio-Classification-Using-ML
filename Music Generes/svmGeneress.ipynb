{
 "cells": [
  {
   "cell_type": "code",
   "execution_count": 1,
   "id": "15c14d98-7b71-4c49-916a-aab0822b7b49",
   "metadata": {},
   "outputs": [],
   "source": [
    "import pandas as pd\n",
    "import numpy as np\n",
    "import matplotlib.pyplot as plt\n",
    "import seaborn as sns"
   ]
  },
  {
   "cell_type": "code",
   "execution_count": 2,
   "id": "2d92bc7c-1903-4d50-8158-df5cebd46bcf",
   "metadata": {},
   "outputs": [],
   "source": [
    "from sklearn.ensemble import RandomForestClassifier\n",
    "from sklearn.svm import SVC\n",
    "from sklearn.naive_bayes import GaussianNB\n",
    "\n",
    "from sklearn.model_selection import train_test_split\n",
    "from sklearn.metrics import classification_report, confusion_matrix\n",
    "from sklearn.model_selection import GridSearchCV\n",
    "from sklearn.preprocessing import MinMaxScaler"
   ]
  },
  {
   "cell_type": "code",
   "execution_count": 3,
   "id": "201afecd-be5b-475a-86a2-7386e73bc2c1",
   "metadata": {},
   "outputs": [],
   "source": [
    "import librosa\n",
    "import librosa.display\n",
    "import IPython.display as ipd"
   ]
  },
  {
   "cell_type": "code",
   "execution_count": 4,
   "id": "7a167a4a-f299-40f6-849c-37016d41a40b",
   "metadata": {},
   "outputs": [
    {
     "data": {
      "text/html": [
       "<div>\n",
       "<style scoped>\n",
       "    .dataframe tbody tr th:only-of-type {\n",
       "        vertical-align: middle;\n",
       "    }\n",
       "\n",
       "    .dataframe tbody tr th {\n",
       "        vertical-align: top;\n",
       "    }\n",
       "\n",
       "    .dataframe thead th {\n",
       "        text-align: right;\n",
       "    }\n",
       "</style>\n",
       "<table border=\"1\" class=\"dataframe\">\n",
       "  <thead>\n",
       "    <tr style=\"text-align: right;\">\n",
       "      <th></th>\n",
       "      <th>Folder_Name</th>\n",
       "      <th>File_Name</th>\n",
       "      <th>Class_ID</th>\n",
       "      <th>Class</th>\n",
       "    </tr>\n",
       "  </thead>\n",
       "  <tbody>\n",
       "    <tr>\n",
       "      <th>0</th>\n",
       "      <td>blues</td>\n",
       "      <td>blues.00000.au</td>\n",
       "      <td>1</td>\n",
       "      <td>blues</td>\n",
       "    </tr>\n",
       "    <tr>\n",
       "      <th>1</th>\n",
       "      <td>blues</td>\n",
       "      <td>blues.00001.au</td>\n",
       "      <td>1</td>\n",
       "      <td>blues</td>\n",
       "    </tr>\n",
       "    <tr>\n",
       "      <th>2</th>\n",
       "      <td>blues</td>\n",
       "      <td>blues.00002.au</td>\n",
       "      <td>1</td>\n",
       "      <td>blues</td>\n",
       "    </tr>\n",
       "    <tr>\n",
       "      <th>3</th>\n",
       "      <td>blues</td>\n",
       "      <td>blues.00003.au</td>\n",
       "      <td>1</td>\n",
       "      <td>blues</td>\n",
       "    </tr>\n",
       "    <tr>\n",
       "      <th>4</th>\n",
       "      <td>blues</td>\n",
       "      <td>blues.00004.au</td>\n",
       "      <td>1</td>\n",
       "      <td>blues</td>\n",
       "    </tr>\n",
       "  </tbody>\n",
       "</table>\n",
       "</div>"
      ],
      "text/plain": [
       "  Folder_Name       File_Name  Class_ID  Class\n",
       "0       blues  blues.00000.au         1  blues\n",
       "1       blues  blues.00001.au         1  blues\n",
       "2       blues  blues.00002.au         1  blues\n",
       "3       blues  blues.00003.au         1  blues\n",
       "4       blues  blues.00004.au         1  blues"
      ]
     },
     "execution_count": 4,
     "metadata": {},
     "output_type": "execute_result"
    }
   ],
   "source": [
    "df = pd.read_csv(\"D:\\\\Project Working\\\\GTZAN\\\\genres\\\\genres_data.csv\")\n",
    "df.head()"
   ]
  },
  {
   "cell_type": "code",
   "execution_count": 5,
   "id": "a84e740c-3f6d-4f8a-9d33-b6af9d93d7f7",
   "metadata": {},
   "outputs": [],
   "source": [
    "class_name = ['blues', 'classical', 'country', 'disco', 'hiphop', 'jazz', 'metal', 'pop', 'reggae', 'rock']"
   ]
  },
  {
   "cell_type": "code",
   "execution_count": 6,
   "id": "31a14184-fd1c-440d-886c-f51e14656763",
   "metadata": {},
   "outputs": [
    {
     "data": {
      "text/plain": [
       "blues        100\n",
       "classical    100\n",
       "country      100\n",
       "disco        100\n",
       "hiphop       100\n",
       "jazz         100\n",
       "metal        100\n",
       "pop          100\n",
       "reggae       100\n",
       "rock         100\n",
       "Name: Class, dtype: int64"
      ]
     },
     "execution_count": 6,
     "metadata": {},
     "output_type": "execute_result"
    }
   ],
   "source": [
    "df['Class'].value_counts()"
   ]
  },
  {
   "cell_type": "code",
   "execution_count": 7,
   "id": "88711e76-dc06-4704-a9bc-ee90368ea78c",
   "metadata": {},
   "outputs": [],
   "source": [
    "features = []\n",
    "labels = []\n",
    "\n",
    "def parser():\n",
    "    # Function to load files and extract features\n",
    "    for i in range(df.shape[0]):\n",
    "        file_name = 'D:\\\\Project Working\\\\GTZAN\\\\genres\\\\' + str(df[\"Folder_Name\"][i]) + '\\\\' + df[\"File_Name\"][i]\n",
    "        # Here kaiser_fast is a technique used for faster extraction\n",
    "        data, sr = librosa.load(file_name, res_type='kaiser_fast') \n",
    "        mels = np.mean(librosa.feature.melspectrogram(y = data, sr = sr), axis=1)        \n",
    "        features.append(mels)\n",
    "        labels.append(df[\"Class_ID\"][i])\n",
    "\n",
    "    return features, labels"
   ]
  },
  {
   "cell_type": "code",
   "execution_count": 8,
   "id": "82b51d20-a899-4d60-ba2e-99058718d784",
   "metadata": {},
   "outputs": [],
   "source": [
    "x, y = parser()"
   ]
  },
  {
   "cell_type": "code",
   "execution_count": 9,
   "id": "6539a84f-e70e-4afd-88d9-99ed639c85c8",
   "metadata": {},
   "outputs": [
    {
     "name": "stdout",
     "output_type": "stream",
     "text": [
      "(1000, 128)\n",
      "(1000,)\n"
     ]
    }
   ],
   "source": [
    "X = np.array(x)\n",
    "Y = np.array(y)\n",
    "\n",
    "print(X.shape)\n",
    "print(Y.shape)"
   ]
  },
  {
   "cell_type": "code",
   "execution_count": 10,
   "id": "ac71d9d4-ab6f-4323-932e-2791d5ac9833",
   "metadata": {},
   "outputs": [],
   "source": [
    "X_train, X_test, y_train, y_test = train_test_split(X, Y, random_state = 1)"
   ]
  },
  {
   "cell_type": "code",
   "execution_count": 11,
   "id": "3613fabe-1865-454f-8e16-4823b42c2988",
   "metadata": {},
   "outputs": [
    {
     "data": {
      "text/plain": [
       "((750, 128), (750,), (250, 128), (250,))"
      ]
     },
     "execution_count": 11,
     "metadata": {},
     "output_type": "execute_result"
    }
   ],
   "source": [
    "X_train.shape, y_train.shape, X_test.shape, y_test.shape"
   ]
  },
  {
   "cell_type": "code",
   "execution_count": 12,
   "id": "8b1a4577-0c4b-48fd-88fa-dc078eda43f8",
   "metadata": {},
   "outputs": [],
   "source": [
    "from sklearn.preprocessing import StandardScaler\n",
    "from sklearn.metrics import accuracy_score\n",
    "scaler = StandardScaler()\n",
    "\n",
    "X_train = scaler.fit_transform(X_train)\n",
    "X_test = scaler.transform(X_test)"
   ]
  },
  {
   "cell_type": "code",
   "execution_count": 20,
   "id": "ed96be7a-21a3-4d1c-9f57-976540e70b8a",
   "metadata": {},
   "outputs": [
    {
     "name": "stdout",
     "output_type": "stream",
     "text": [
      "Model accuracy score with rbf kernel and C=1000.0 : 0.5280\n"
     ]
    }
   ],
   "source": [
    "svc=SVC(probability=True, C=1000.0) \n",
    "\n",
    "\n",
    "# fit classifier to training set\n",
    "svc.fit(X_train,y_train)\n",
    "\n",
    "\n",
    "# make predictions on test set\n",
    "y_pred=svc.predict(X_test)\n",
    "\n",
    "\n",
    "# compute and print accuracy score\n",
    "print('Model accuracy score with rbf kernel and C=1000.0 : {0:0.4f}'. format(accuracy_score(y_test, y_pred)))"
   ]
  },
  {
   "cell_type": "code",
   "execution_count": 14,
   "id": "f2d0d68b-ee6c-4922-b9a8-a119a5779e9f",
   "metadata": {},
   "outputs": [
    {
     "data": {
      "text/plain": [
       "array([[19,  0,  3,  1,  1,  0,  1,  0,  1,  0],\n",
       "       [ 1, 18,  3,  0,  1,  2,  0,  0,  0,  0],\n",
       "       [ 4,  1,  5,  3,  1,  3,  1,  0,  0,  3],\n",
       "       [ 1,  0,  1, 11,  0,  0,  3,  2,  4,  2],\n",
       "       [ 1,  0,  0,  3, 13,  0,  3,  1,  3,  1],\n",
       "       [ 0,  5,  4,  1,  1, 15,  0,  1,  1,  3],\n",
       "       [ 4,  0,  0,  1,  1,  0, 17,  0,  1,  1],\n",
       "       [ 0,  1,  2,  2,  1,  0,  2, 12,  2,  2],\n",
       "       [ 1,  1,  0,  1,  4,  0,  0,  1, 12,  3],\n",
       "       [ 1,  0,  3,  7,  2,  1,  2,  0,  0, 10]], dtype=int64)"
      ]
     },
     "execution_count": 14,
     "metadata": {},
     "output_type": "execute_result"
    }
   ],
   "source": [
    "confusion_matrix(y_test, y_pred)"
   ]
  },
  {
   "cell_type": "code",
   "execution_count": 15,
   "id": "e55b0f7a-ea81-4a33-8793-a7dc91d75152",
   "metadata": {},
   "outputs": [
    {
     "data": {
      "image/png": "[encoded data removed]",
      "text/plain": [
       "<Figure size 864x720 with 2 Axes>"
      ]
     },
     "metadata": {
      "needs_background": "light"
     },
     "output_type": "display_data"
    }
   ],
   "source": [
    "plt.figure(figsize = (12, 10))\n",
    "sns.heatmap(confusion_matrix(y_test, y_pred), \n",
    "            annot = True, linewidths = 2, fmt=\"d\", \n",
    "            xticklabels = class_name,\n",
    "            yticklabels = class_name)\n",
    "plt.show()\n"
   ]
  },
  {
   "cell_type": "code",
   "execution_count": 16,
   "id": "7d9ddc39-85c1-40b9-9b03-695956910452",
   "metadata": {},
   "outputs": [
    {
     "name": "stdout",
     "output_type": "stream",
     "text": [
      "              precision    recall  f1-score   support\n",
      "\n",
      "           1       0.59      0.73      0.66        26\n",
      "           2       0.69      0.72      0.71        25\n",
      "           3       0.24      0.24      0.24        21\n",
      "           4       0.37      0.46      0.41        24\n",
      "           5       0.52      0.52      0.52        25\n",
      "           6       0.71      0.48      0.58        31\n",
      "           7       0.59      0.68      0.63        25\n",
      "           8       0.71      0.50      0.59        24\n",
      "           9       0.50      0.52      0.51        23\n",
      "          10       0.40      0.38      0.39        26\n",
      "\n",
      "    accuracy                           0.53       250\n",
      "   macro avg       0.53      0.52      0.52       250\n",
      "weighted avg       0.54      0.53      0.53       250\n",
      "\n"
     ]
    }
   ],
   "source": [
    "print(classification_report(y_test, y_pred))"
   ]
  },
  {
   "cell_type": "code",
   "execution_count": 32,
   "id": "e43f3999-4791-4c55-863f-04e0d31c8262",
   "metadata": {},
   "outputs": [
    {
     "name": "stderr",
     "output_type": "stream",
     "text": [
      "C:\\Pythondj\\lib\\site-packages\\sklearn\\metrics\\_ranking.py:999: UndefinedMetricWarning: No positive samples in y_true, true positive value should be meaningless\n",
      "  warnings.warn(\n"
     ]
    },
    {
     "data": {
      "image/png": "[encoded data removed]",
      "text/plain": [
       "<Figure size 432x288 with 1 Axes>"
      ]
     },
     "metadata": {
      "needs_background": "light"
     },
     "output_type": "display_data"
    }
   ],
   "source": [
    "from sklearn.metrics import roc_curve\n",
    "\n",
    "pred_prob = svc.predict_proba(X_test)\n",
    "\n",
    "# roc curve for classes\n",
    "n_class = len(class_name)\n",
    "\n",
    "for i in range(n_class):    \n",
    "    fpr, tpr, thresh = roc_curve(y_test, pred_prob[:,i], pos_label=i)\n",
    "    plt.plot(fpr, tpr, linestyle='-', label=str(class_name[i]))\n",
    "\n",
    "plt.title('Multiclass ROC curve')\n",
    "plt.xlabel('False Positive Rate')\n",
    "plt.ylabel('True Positive rate')\n",
    "plt.legend(loc='best')\n",
    "plt.savefig('Multiclass ROC',dpi=300);"
   ]
  },
  {
   "cell_type": "code",
   "execution_count": null,
   "id": "546eb0e3-e7ec-4819-a3aa-5f1322ceeef7",
   "metadata": {},
   "outputs": [],
   "source": []
  }
 ],
 "metadata": {
  "kernelspec": {
   "display_name": "Python 3 (ipykernel)",
   "language": "python",
   "name": "python3"
  },
  "language_info": {
   "codemirror_mode": {
    "name": "ipython",
    "version": 3
   },
   "file_extension": ".py",
   "mimetype": "text/x-python",
   "name": "python",
   "nbconvert_exporter": "python",
   "pygments_lexer": "ipython3",
   "version": "3.10.0"
  }
 },
 "nbformat": 4,
 "nbformat_minor": 5
}
