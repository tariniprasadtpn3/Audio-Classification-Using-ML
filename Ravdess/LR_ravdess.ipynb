{
 "cells": [
  {
   "cell_type": "code",
   "execution_count": 1,
   "id": "3f8c0de3-a5fc-4ab4-a4a8-25bc4cecef62",
   "metadata": {},
   "outputs": [],
   "source": [
    "import pandas as pd\n",
    "import numpy as np\n",
    "import matplotlib.pyplot as plt\n",
    "import seaborn as sns"
   ]
  },
  {
   "cell_type": "code",
   "execution_count": 2,
   "id": "4583ce84-d6f4-4e00-951c-f5a39ba03c54",
   "metadata": {},
   "outputs": [],
   "source": [
    "from sklearn.ensemble import RandomForestClassifier\n",
    "from sklearn.svm import SVC\n",
    "from sklearn.naive_bayes import GaussianNB\n",
    "\n",
    "from sklearn.model_selection import train_test_split\n",
    "from sklearn.metrics import classification_report, confusion_matrix\n",
    "from sklearn.model_selection import GridSearchCV\n",
    "from sklearn.preprocessing import MinMaxScaler"
   ]
  },
  {
   "cell_type": "code",
   "execution_count": 3,
   "id": "f4b39fec-78d9-4b91-87cb-f27a102878a5",
   "metadata": {},
   "outputs": [],
   "source": [
    "import librosa\n",
    "import librosa.display\n",
    "import IPython.display as ipd"
   ]
  },
  {
   "cell_type": "code",
   "execution_count": 4,
   "id": "105f873b-36c7-4d8b-8fda-4509062bbe61",
   "metadata": {},
   "outputs": [
    {
     "data": {
      "text/html": [
       "<div>\n",
       "<style scoped>\n",
       "    .dataframe tbody tr th:only-of-type {\n",
       "        vertical-align: middle;\n",
       "    }\n",
       "\n",
       "    .dataframe tbody tr th {\n",
       "        vertical-align: top;\n",
       "    }\n",
       "\n",
       "    .dataframe thead th {\n",
       "        text-align: right;\n",
       "    }\n",
       "</style>\n",
       "<table border=\"1\" class=\"dataframe\">\n",
       "  <thead>\n",
       "    <tr style=\"text-align: right;\">\n",
       "      <th></th>\n",
       "      <th>Actor_ID</th>\n",
       "      <th>Folder_Name</th>\n",
       "      <th>File_Name</th>\n",
       "    </tr>\n",
       "  </thead>\n",
       "  <tbody>\n",
       "    <tr>\n",
       "      <th>0</th>\n",
       "      <td>1</td>\n",
       "      <td>Actor_01</td>\n",
       "      <td>03-01-01-01-01-01-01.wav</td>\n",
       "    </tr>\n",
       "    <tr>\n",
       "      <th>1</th>\n",
       "      <td>1</td>\n",
       "      <td>Actor_01</td>\n",
       "      <td>03-01-01-01-01-02-01.wav</td>\n",
       "    </tr>\n",
       "    <tr>\n",
       "      <th>2</th>\n",
       "      <td>1</td>\n",
       "      <td>Actor_01</td>\n",
       "      <td>03-01-01-01-02-01-01.wav</td>\n",
       "    </tr>\n",
       "    <tr>\n",
       "      <th>3</th>\n",
       "      <td>1</td>\n",
       "      <td>Actor_01</td>\n",
       "      <td>03-01-01-01-02-02-01.wav</td>\n",
       "    </tr>\n",
       "    <tr>\n",
       "      <th>4</th>\n",
       "      <td>1</td>\n",
       "      <td>Actor_01</td>\n",
       "      <td>03-01-02-01-01-01-01.wav</td>\n",
       "    </tr>\n",
       "  </tbody>\n",
       "</table>\n",
       "</div>"
      ],
      "text/plain": [
       "   Actor_ID Folder_Name                 File_Name\n",
       "0         1    Actor_01  03-01-01-01-01-01-01.wav\n",
       "1         1    Actor_01  03-01-01-01-01-02-01.wav\n",
       "2         1    Actor_01  03-01-01-01-02-01-01.wav\n",
       "3         1    Actor_01  03-01-01-01-02-02-01.wav\n",
       "4         1    Actor_01  03-01-02-01-01-01-01.wav"
      ]
     },
     "execution_count": 4,
     "metadata": {},
     "output_type": "execute_result"
    }
   ],
   "source": [
    "df = pd.read_csv(\"D:\\\\Project Working\\\\RAVDESS\\\\actor_data.csv\")\n",
    "df.head()"
   ]
  },
  {
   "cell_type": "code",
   "execution_count": 5,
   "id": "ba692529-ea77-4b02-9cdd-e8ae8bedac5a",
   "metadata": {},
   "outputs": [],
   "source": [
    "features = []\n",
    "labels = []\n",
    "\n",
    "def parser():\n",
    "    # Function to load files and extract features\n",
    "    for i in range(df.shape[0]):\n",
    "        file_name = 'D:\\\\Project Working\\\\RAVDESS\\\\' + str(df[\"Folder_Name\"][i]) + '\\\\' + df[\"File_Name\"][i]\n",
    "        # Here kaiser_fast is a technique used for faster extraction\n",
    "        data, sr = librosa.load(file_name, res_type='kaiser_fast') \n",
    "        mels = np.mean(librosa.feature.melspectrogram(y = data, sr = sr), axis=1)        \n",
    "        features.append(mels)\n",
    "        labels.append(df[\"Actor_ID\"][i])\n",
    "\n",
    "    return features, labels"
   ]
  },
  {
   "cell_type": "code",
   "execution_count": 6,
   "id": "7dd3d36d-a2fc-41dd-aced-c4e4503d1a8c",
   "metadata": {},
   "outputs": [],
   "source": [
    "x, y = parser()"
   ]
  },
  {
   "cell_type": "code",
   "execution_count": 7,
   "id": "ef69f662-4459-4efe-95e2-bcf6855cf817",
   "metadata": {},
   "outputs": [
    {
     "name": "stdout",
     "output_type": "stream",
     "text": [
      "(1440, 128)\n",
      "(1440,)\n"
     ]
    }
   ],
   "source": [
    "X = np.array(x)\n",
    "Y = np.array(y)\n",
    "\n",
    "print(X.shape)\n",
    "print(Y.shape)"
   ]
  },
  {
   "cell_type": "code",
   "execution_count": 8,
   "id": "7325bd16-20e9-450a-bfbc-2d4803f3a503",
   "metadata": {},
   "outputs": [],
   "source": [
    "X_train, X_test, y_train, y_test = train_test_split(X, Y, random_state = 1)"
   ]
  },
  {
   "cell_type": "code",
   "execution_count": 9,
   "id": "0a6e42bc-d8b4-4233-855e-6607cc34a59e",
   "metadata": {},
   "outputs": [
    {
     "data": {
      "text/plain": [
       "((1080, 128), (1080,), (360, 128), (360,))"
      ]
     },
     "execution_count": 9,
     "metadata": {},
     "output_type": "execute_result"
    }
   ],
   "source": [
    "X_train.shape, y_train.shape, X_test.shape, y_test.shape"
   ]
  },
  {
   "cell_type": "code",
   "execution_count": 10,
   "id": "3881307d-61e8-47ea-abc6-8ba3d2d05673",
   "metadata": {},
   "outputs": [],
   "source": [
    "from sklearn.preprocessing import StandardScaler\n",
    "from sklearn.metrics import accuracy_score\n",
    "scaler = StandardScaler()\n",
    "\n",
    "X_train = scaler.fit_transform(X_train)\n",
    "X_test = scaler.transform(X_test)"
   ]
  },
  {
   "cell_type": "code",
   "execution_count": 11,
   "id": "977d294b-ed08-431b-a728-34d377e30008",
   "metadata": {},
   "outputs": [
    {
     "data": {
      "text/plain": [
       "LogisticRegression(random_state=0, solver='liblinear')"
      ]
     },
     "execution_count": 11,
     "metadata": {},
     "output_type": "execute_result"
    }
   ],
   "source": [
    "from sklearn.linear_model import LogisticRegression\n",
    "\n",
    "\n",
    "# instantiate the model\n",
    "logreg = LogisticRegression(solver='liblinear', random_state=0)\n",
    "\n",
    "\n",
    "# fit the model\n",
    "logreg.fit(X_train, y_train)"
   ]
  },
  {
   "cell_type": "code",
   "execution_count": 12,
   "id": "6ecf5f89-a336-430b-a217-a84e11e4229d",
   "metadata": {},
   "outputs": [
    {
     "data": {
      "text/plain": [
       "array([20, 24, 13,  1,  6,  2, 22, 13, 12,  7, 14, 22, 19, 17,  6,  6,  9,\n",
       "       12, 21,  6, 15, 13, 22,  6, 15, 22, 15,  9, 17, 22, 13, 10,  2, 13,\n",
       "       23,  9,  8, 23, 20, 10, 22, 24, 15, 17, 23, 22,  6,  5, 14, 23, 14,\n",
       "        9, 16, 17, 11,  4, 16,  6,  6, 20,  4, 15, 23, 17, 20,  8, 14, 21,\n",
       "        9,  5,  1, 16,  8, 16, 21, 14, 22, 22, 17, 15,  3,  1, 19, 15, 13,\n",
       "        4, 20,  3, 21, 16, 24, 11,  8,  1, 17, 22, 22, 24, 15, 22, 14,  9,\n",
       "        7, 21, 21, 18, 21, 11, 13, 13, 22, 23, 15,  8, 22,  6, 12,  9, 24,\n",
       "        6, 13,  5, 15,  8,  6, 23,  8, 10, 22,  9,  8, 22, 22,  9, 13,  9,\n",
       "       22, 21,  9,  6, 13, 22,  9, 15,  7, 13, 13, 21, 23,  7,  2, 24, 20,\n",
       "       15,  4, 22, 20, 21, 17,  8, 21, 17,  6,  6,  9,  5,  5, 20,  5, 24,\n",
       "       10,  3, 20,  2, 20,  3, 18, 16,  2, 21, 22, 11, 11, 22, 17,  2,  6,\n",
       "       20, 20, 17,  9, 10, 24, 17, 14,  7,  8, 10, 17, 18,  9,  6,  8,  5,\n",
       "       22, 23,  5,  6, 16,  6, 13, 15, 23, 10,  9, 20, 12, 22,  8, 17, 23,\n",
       "        8, 13, 13,  8,  6, 22, 23, 21, 12, 18,  5, 10,  5,  4,  8, 22,  9,\n",
       "        8, 13, 12, 13,  5, 18, 10,  9, 13,  6,  5, 15,  6, 21, 11, 23, 19,\n",
       "       20,  8, 10, 24,  8, 16,  9, 22,  7,  9, 15, 13,  2, 22, 10,  5,  8,\n",
       "       13,  3,  1, 17, 14,  1, 16, 15,  5, 14, 20,  3, 20, 13, 15, 19, 19,\n",
       "       13, 13, 20, 15, 12, 11, 17,  9,  9, 20, 18,  9, 13, 12, 20, 22, 17,\n",
       "       22, 22, 15, 15, 11,  2,  4, 22,  9, 12, 22,  1,  5, 19, 21, 20,  8,\n",
       "       20,  6,  9, 22, 15, 24, 13, 14,  6, 16, 16, 24, 13, 22, 10,  2, 11,\n",
       "        6, 22,  8,  6, 20, 13, 17,  6, 13, 22,  8,  6, 21,  4, 22,  6, 23,\n",
       "       20,  4, 21], dtype=int64)"
      ]
     },
     "execution_count": 12,
     "metadata": {},
     "output_type": "execute_result"
    }
   ],
   "source": [
    "y_pred_test = logreg.predict(X_test)\n",
    "\n",
    "y_pred_test"
   ]
  },
  {
   "cell_type": "code",
   "execution_count": 15,
   "id": "6c2b1042-d11f-46fd-964f-0c3ba39d6087",
   "metadata": {},
   "outputs": [
    {
     "name": "stdout",
     "output_type": "stream",
     "text": [
      "Training-set accuracy score: 0.4500\n"
     ]
    }
   ],
   "source": [
    "print('Training-set accuracy score: {0:0.4f}'. format(accuracy_score(y_test, y_pred_test)))"
   ]
  },
  {
   "cell_type": "code",
   "execution_count": 16,
   "id": "75788281-8239-4a24-a6a9-7a6934f58276",
   "metadata": {},
   "outputs": [
    {
     "data": {
      "text/plain": [
       "array([[ 4,  0,  0,  0,  0,  0,  0,  0,  0,  1,  0,  0,  0,  0,  4,  0,\n",
       "         1,  0,  0,  0,  0,  1,  3,  0],\n",
       "       [ 0,  7,  0,  0,  0,  0,  0,  4,  0,  0,  0,  0,  0,  2,  0,  2,\n",
       "         0,  0,  0,  0,  0,  4,  0,  1],\n",
       "       [ 0,  0,  5,  0,  2,  0,  0,  0,  1,  1,  1,  0,  1,  0,  0,  0,\n",
       "         0,  0,  1,  0,  1,  0,  1,  0],\n",
       "       [ 0,  1,  0,  8,  0,  1,  0,  2,  0,  0,  0,  0,  0,  1,  0,  0,\n",
       "         0,  0,  1,  1,  0,  0,  0,  0],\n",
       "       [ 0,  0,  0,  0,  3,  2,  1,  0,  2,  0,  0,  0,  0,  1,  0,  0,\n",
       "         0,  0,  0,  0,  1,  4,  0,  0],\n",
       "       [ 0,  0,  0,  0,  0, 10,  0,  0,  0,  0,  0,  0,  0,  0,  0,  0,\n",
       "         0,  1,  0,  1,  1,  0,  0,  1],\n",
       "       [ 0,  0,  0,  0,  4,  1,  1,  1,  2,  0,  0,  0,  2,  0,  1,  1,\n",
       "         0,  0,  0,  0,  0,  0,  0,  0],\n",
       "       [ 0,  0,  0,  0,  0,  0,  0,  5,  0,  0,  0,  1,  0,  0,  0,  0,\n",
       "         0,  0,  0,  0,  0,  3,  0,  0],\n",
       "       [ 0,  0,  0,  0,  1,  0,  1,  0, 10,  0,  0,  0,  2,  0,  2,  0,\n",
       "         0,  0,  0,  0,  0,  0,  0,  0],\n",
       "       [ 0,  0,  0,  0,  0,  0,  1,  0,  0,  9,  0,  1,  0,  0,  0,  0,\n",
       "         1,  0,  0,  1,  0,  2,  0,  0],\n",
       "       [ 1,  0,  0,  0,  0,  0,  0,  0,  1,  0,  7,  0,  3,  0,  0,  0,\n",
       "         0,  0,  0,  0,  0,  0,  0,  0],\n",
       "       [ 0,  0,  0,  0,  0,  0,  0,  5,  1,  0,  0,  5,  1,  0,  0,  0,\n",
       "         0,  1,  0,  0,  0,  3,  0,  0],\n",
       "       [ 0,  0,  0,  0,  3,  0,  0,  0,  3,  0,  0,  0,  9,  0,  0,  0,\n",
       "         0,  0,  1,  0,  0,  0,  0,  0],\n",
       "       [ 0,  1,  0,  0,  0,  6,  0,  0,  0,  0,  0,  0,  0,  5,  0,  1,\n",
       "         0,  0,  0,  3,  0,  0,  0,  2],\n",
       "       [ 1,  0,  0,  0,  0,  0,  0,  0,  0,  0,  0,  0,  2,  0,  7,  0,\n",
       "         1,  0,  0,  0,  0,  0,  1,  0],\n",
       "       [ 0,  0,  1,  0,  0,  2,  0,  0,  0,  0,  0,  0,  0,  0,  0,  5,\n",
       "         0,  0,  0,  3,  0,  5,  0,  0],\n",
       "       [ 0,  0,  0,  0,  0,  0,  0,  0,  0,  1,  0,  0,  0,  0,  4,  0,\n",
       "        13,  0,  0,  0,  0,  0,  1,  0],\n",
       "       [ 0,  0,  0,  0,  0,  0,  0,  4,  2,  0,  0,  2,  0,  0,  0,  1,\n",
       "         0,  3,  0,  0,  1,  3,  0,  0],\n",
       "       [ 0,  0,  0,  0,  2,  2,  0,  0,  3,  0,  1,  0,  9,  0,  1,  0,\n",
       "         0,  0,  2,  1,  0,  2,  0,  0],\n",
       "       [ 0,  0,  0,  0,  0,  3,  0,  1,  0,  0,  0,  0,  0,  1,  0,  0,\n",
       "         0,  0,  0,  8,  0,  2,  0,  0],\n",
       "       [ 0,  0,  0,  0,  0,  0,  1,  0,  0,  0,  0,  0,  0,  0,  0,  0,\n",
       "         1,  0,  1,  0, 13,  0,  0,  0],\n",
       "       [ 0,  0,  0,  0,  0,  1,  0,  0,  0,  0,  0,  0,  0,  0,  0,  0,\n",
       "         0,  0,  0,  0,  0,  8,  0,  0],\n",
       "       [ 1,  0,  0,  0,  0,  0,  1,  0,  0,  0,  0,  0,  0,  0,  2,  0,\n",
       "         1,  1,  0,  0,  0,  0,  8,  0],\n",
       "       [ 0,  0,  0,  0,  0,  0,  0,  0,  0,  0,  0,  0,  0,  0,  0,  1,\n",
       "         0,  0,  0,  5,  0,  1,  0,  7]], dtype=int64)"
      ]
     },
     "execution_count": 16,
     "metadata": {},
     "output_type": "execute_result"
    }
   ],
   "source": [
    "confusion_matrix(y_test, y_pred_test)"
   ]
  },
  {
   "cell_type": "code",
   "execution_count": 17,
   "id": "3171e8c5-3109-481e-aea2-3b62246e751f",
   "metadata": {},
   "outputs": [
    {
     "data": {
      "image/png": "[encoded data removed]",
      "text/plain": [
       "<Figure size 864x720 with 2 Axes>"
      ]
     },
     "metadata": {
      "needs_background": "light"
     },
     "output_type": "display_data"
    }
   ],
   "source": [
    "plt.figure(figsize = (12, 10))\n",
    "sns.heatmap(confusion_matrix(y_test, y_pred_test), \n",
    "            annot = True, linewidths = 2, fmt=\"d\", \n",
    "           )\n",
    "plt.show()"
   ]
  },
  {
   "cell_type": "code",
   "execution_count": null,
   "id": "dcbbe20e-6670-4993-9ca5-a03aa128403d",
   "metadata": {},
   "outputs": [],
   "source": []
  }
 ],
 "metadata": {
  "kernelspec": {
   "display_name": "Python 3 (ipykernel)",
   "language": "python",
   "name": "python3"
  },
  "language_info": {
   "codemirror_mode": {
    "name": "ipython",
    "version": 3
   },
   "file_extension": ".py",
   "mimetype": "text/x-python",
   "name": "python",
   "nbconvert_exporter": "python",
   "pygments_lexer": "ipython3",
   "version": "3.10.0"
  }
 },
 "nbformat": 4,
 "nbformat_minor": 5
}
