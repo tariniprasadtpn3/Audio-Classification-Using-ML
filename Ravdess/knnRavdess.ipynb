{
 "cells": [
  {
   "cell_type": "code",
   "execution_count": 4,
   "id": "6d32af93-e81f-47da-b5d3-13558f1b9f0d",
   "metadata": {},
   "outputs": [],
   "source": [
    "import os\n",
    "\n",
    "import numpy as np\n",
    "import pandas as pd\n",
    "\n",
    "import librosa\n",
    "import librosa.display\n",
    "import soundfile as sf # librosa fails when reading files on Kaggle.\n",
    "\n",
    "import matplotlib.pyplot as plt\n",
    "import IPython.display as ipd\n",
    "\n",
    "from sklearn.model_selection import train_test_split\n",
    "from sklearn.preprocessing import StandardScaler\n",
    "from sklearn.decomposition import PCA\n",
    "from sklearn.neighbors import KNeighborsClassifier\n",
    "from sklearn.model_selection import GridSearchCV\n",
    "from sklearn.metrics import confusion_matrix"
   ]
  },
  {
   "cell_type": "code",
   "execution_count": 5,
   "id": "d25ccd34-4428-47ec-a17b-8f42caa585f6",
   "metadata": {},
   "outputs": [
    {
     "data": {
      "text/html": [
       "<div>\n",
       "<style scoped>\n",
       "    .dataframe tbody tr th:only-of-type {\n",
       "        vertical-align: middle;\n",
       "    }\n",
       "\n",
       "    .dataframe tbody tr th {\n",
       "        vertical-align: top;\n",
       "    }\n",
       "\n",
       "    .dataframe thead th {\n",
       "        text-align: right;\n",
       "    }\n",
       "</style>\n",
       "<table border=\"1\" class=\"dataframe\">\n",
       "  <thead>\n",
       "    <tr style=\"text-align: right;\">\n",
       "      <th></th>\n",
       "      <th>Actor_ID</th>\n",
       "      <th>Folder_Name</th>\n",
       "      <th>File_Name</th>\n",
       "    </tr>\n",
       "  </thead>\n",
       "  <tbody>\n",
       "    <tr>\n",
       "      <th>0</th>\n",
       "      <td>1</td>\n",
       "      <td>Actor_01</td>\n",
       "      <td>03-01-01-01-01-01-01.wav</td>\n",
       "    </tr>\n",
       "    <tr>\n",
       "      <th>1</th>\n",
       "      <td>1</td>\n",
       "      <td>Actor_01</td>\n",
       "      <td>03-01-01-01-01-02-01.wav</td>\n",
       "    </tr>\n",
       "    <tr>\n",
       "      <th>2</th>\n",
       "      <td>1</td>\n",
       "      <td>Actor_01</td>\n",
       "      <td>03-01-01-01-02-01-01.wav</td>\n",
       "    </tr>\n",
       "    <tr>\n",
       "      <th>3</th>\n",
       "      <td>1</td>\n",
       "      <td>Actor_01</td>\n",
       "      <td>03-01-01-01-02-02-01.wav</td>\n",
       "    </tr>\n",
       "    <tr>\n",
       "      <th>4</th>\n",
       "      <td>1</td>\n",
       "      <td>Actor_01</td>\n",
       "      <td>03-01-02-01-01-01-01.wav</td>\n",
       "    </tr>\n",
       "  </tbody>\n",
       "</table>\n",
       "</div>"
      ],
      "text/plain": [
       "   Actor_ID Folder_Name                 File_Name\n",
       "0         1    Actor_01  03-01-01-01-01-01-01.wav\n",
       "1         1    Actor_01  03-01-01-01-01-02-01.wav\n",
       "2         1    Actor_01  03-01-01-01-02-01-01.wav\n",
       "3         1    Actor_01  03-01-01-01-02-02-01.wav\n",
       "4         1    Actor_01  03-01-02-01-01-01-01.wav"
      ]
     },
     "execution_count": 5,
     "metadata": {},
     "output_type": "execute_result"
    }
   ],
   "source": [
    "df = pd.read_csv(\"D:\\\\Project Working\\\\RAVDESS\\\\actor_data.csv\")\n",
    "df.head()"
   ]
  },
  {
   "cell_type": "code",
   "execution_count": 6,
   "id": "5779b74c-7a30-43e8-bca1-a88eb822265d",
   "metadata": {},
   "outputs": [],
   "source": [
    "features = []\n",
    "labels = []\n",
    "\n",
    "def parser():\n",
    "    # Function to load files and extract features\n",
    "    for i in range(df.shape[0]):\n",
    "        file_name = 'D:\\\\Project Working\\\\RAVDESS\\\\' + str(df[\"Folder_Name\"][i]) + '\\\\' + df[\"File_Name\"][i]\n",
    "        # Here kaiser_fast is a technique used for faster extraction\n",
    "        data, sr = librosa.load(file_name, res_type='kaiser_fast') \n",
    "        mels = np.mean(librosa.feature.melspectrogram(y = data, sr = sr), axis=1)        \n",
    "        features.append(mels)\n",
    "        labels.append(df[\"Actor_ID\"][i])\n",
    "\n",
    "    return features, labels"
   ]
  },
  {
   "cell_type": "code",
   "execution_count": 7,
   "id": "477d1cb6-b25d-43fa-bf45-cb705b2e899d",
   "metadata": {},
   "outputs": [],
   "source": [
    "x, y = parser()"
   ]
  },
  {
   "cell_type": "code",
   "execution_count": 8,
   "id": "fa60ff33-9303-40e0-9925-c089e8524fa8",
   "metadata": {},
   "outputs": [
    {
     "name": "stdout",
     "output_type": "stream",
     "text": [
      "(1440, 128)\n",
      "(1440,)\n"
     ]
    }
   ],
   "source": [
    "X = np.array(x)\n",
    "Y = np.array(y)\n",
    "\n",
    "print(X.shape)\n",
    "print(Y.shape)"
   ]
  },
  {
   "cell_type": "code",
   "execution_count": 9,
   "id": "bc829c1d-8356-4129-812d-fe3cf55a9819",
   "metadata": {},
   "outputs": [],
   "source": [
    "X_train, X_test, y_train, y_test = train_test_split(X, Y, random_state = 1)"
   ]
  },
  {
   "cell_type": "code",
   "execution_count": 10,
   "id": "017c5c78-fb21-4b66-a148-eddcf643ad5f",
   "metadata": {},
   "outputs": [
    {
     "data": {
      "text/plain": [
       "((1080, 128), (1080,), (360, 128), (360,))"
      ]
     },
     "execution_count": 10,
     "metadata": {},
     "output_type": "execute_result"
    }
   ],
   "source": [
    "X_train.shape, y_train.shape, X_test.shape, y_test.shape"
   ]
  },
  {
   "cell_type": "code",
   "execution_count": 11,
   "id": "d22f0cd9-7c27-46af-ab2d-9f97f6d92b79",
   "metadata": {},
   "outputs": [],
   "source": [
    "from sklearn.preprocessing import StandardScaler\n",
    "from sklearn.metrics import accuracy_score\n",
    "scaler = StandardScaler()\n",
    "\n",
    "X_train = scaler.fit_transform(X_train)\n",
    "X_test = scaler.transform(X_test)"
   ]
  },
  {
   "cell_type": "code",
   "execution_count": 12,
   "id": "6141b639-3b2a-41f3-a949-32d209ec8245",
   "metadata": {},
   "outputs": [],
   "source": [
    "from sklearn.neighbors import KNeighborsClassifier"
   ]
  },
  {
   "cell_type": "code",
   "execution_count": 13,
   "id": "9d0c9363-8f29-411a-8a5a-e27bd5118b09",
   "metadata": {},
   "outputs": [
    {
     "data": {
      "text/plain": [
       "KNeighborsClassifier()"
      ]
     },
     "execution_count": 13,
     "metadata": {},
     "output_type": "execute_result"
    }
   ],
   "source": [
    "neigh = KNeighborsClassifier(n_neighbors=5)\n",
    "neigh.fit(X_train, y_train)"
   ]
  },
  {
   "cell_type": "code",
   "execution_count": 14,
   "id": "da36762d-29d7-4bad-a41e-f62ab64ad975",
   "metadata": {},
   "outputs": [
    {
     "data": {
      "text/plain": [
       "array([[ 4,  0,  2,  0,  0,  0,  0,  0,  0,  0,  1,  0,  0,  0,  4,  0,\n",
       "         0,  0,  0,  0,  0,  0,  3,  0],\n",
       "       [ 0, 10,  0,  3,  0,  0,  0,  2,  0,  0,  0,  1,  0,  2,  0,  1,\n",
       "         0,  0,  0,  0,  0,  1,  0,  0],\n",
       "       [ 2,  0,  4,  0,  2,  0,  0,  0,  1,  1,  0,  0,  0,  0,  0,  1,\n",
       "         0,  0,  0,  0,  0,  0,  3,  0],\n",
       "       [ 0,  3,  0,  9,  0,  0,  0,  0,  0,  0,  0,  0,  0,  1,  0,  0,\n",
       "         0,  0,  1,  1,  0,  0,  0,  0],\n",
       "       [ 0,  2,  0,  1,  4,  0,  0,  0,  3,  0,  0,  0,  0,  0,  0,  2,\n",
       "         0,  0,  0,  0,  0,  2,  0,  0],\n",
       "       [ 0,  0,  0,  0,  0,  9,  0,  0,  0,  0,  0,  0,  0,  1,  0,  0,\n",
       "         0,  0,  0,  2,  0,  0,  0,  2],\n",
       "       [ 1,  0,  2,  0,  1,  0,  3,  1,  0,  0,  0,  1,  3,  0,  0,  1,\n",
       "         0,  0,  0,  0,  0,  0,  0,  0],\n",
       "       [ 0,  1,  1,  1,  0,  0,  0,  5,  0,  0,  0,  1,  0,  0,  0,  0,\n",
       "         0,  0,  0,  0,  0,  0,  0,  0],\n",
       "       [ 2,  0,  1,  0,  1,  0,  0,  0,  8,  0,  0,  0,  3,  0,  0,  0,\n",
       "         0,  0,  1,  0,  0,  0,  0,  0],\n",
       "       [ 1,  0,  2,  0,  0,  0,  0,  0,  0,  8,  0,  0,  0,  0,  0,  0,\n",
       "         1,  1,  0,  0,  2,  0,  0,  0],\n",
       "       [ 3,  0,  1,  0,  1,  0,  2,  0,  0,  0,  3,  0,  1,  0,  1,  0,\n",
       "         0,  0,  0,  0,  0,  0,  0,  0],\n",
       "       [ 0,  3,  0,  1,  0,  0,  1,  3,  0,  0,  0,  5,  0,  0,  0,  0,\n",
       "         0,  3,  0,  0,  0,  0,  0,  0],\n",
       "       [ 2,  0,  1,  0,  2,  0,  2,  0,  1,  0,  0,  0,  8,  0,  0,  0,\n",
       "         0,  0,  0,  0,  0,  0,  0,  0],\n",
       "       [ 0,  3,  0,  2,  0,  1,  0,  0,  0,  0,  0,  0,  0,  7,  0,  0,\n",
       "         0,  0,  0,  1,  0,  0,  0,  4],\n",
       "       [ 3,  0,  0,  0,  0,  0,  0,  0,  0,  0,  3,  0,  0,  0,  6,  0,\n",
       "         0,  0,  0,  0,  0,  0,  0,  0],\n",
       "       [ 0,  0,  0,  1,  0,  1,  0,  0,  0,  0,  0,  2,  0,  0,  0,  8,\n",
       "         0,  0,  0,  0,  0,  4,  0,  0],\n",
       "       [ 1,  0,  2,  0,  0,  0,  0,  0,  0,  2,  1,  0,  0,  0,  4,  0,\n",
       "         9,  0,  0,  0,  0,  0,  0,  0],\n",
       "       [ 0,  3,  0,  3,  0,  0,  1,  0,  0,  0,  0,  2,  0,  1,  0,  0,\n",
       "         0,  6,  0,  0,  0,  0,  0,  0],\n",
       "       [ 0,  0,  1,  1,  2,  0,  5,  1,  2,  0,  0,  0,  4,  1,  0,  1,\n",
       "         0,  0,  3,  0,  0,  2,  0,  0],\n",
       "       [ 0,  3,  1,  2,  0,  1,  0,  1,  2,  0,  0,  0,  0,  1,  0,  0,\n",
       "         0,  0,  0,  3,  0,  1,  0,  0],\n",
       "       [ 0,  0,  1,  0,  0,  0,  0,  0,  1,  0,  0,  0,  0,  0,  0,  0,\n",
       "         2,  0,  0,  0, 12,  0,  0,  0],\n",
       "       [ 0,  1,  0,  1,  0,  0,  0,  0,  0,  0,  0,  0,  0,  1,  0,  0,\n",
       "         0,  1,  0,  0,  0,  5,  0,  0],\n",
       "       [ 1,  0,  2,  0,  0,  0,  0,  0,  0,  0,  1,  0,  0,  0,  4,  0,\n",
       "         1,  0,  0,  0,  0,  0,  5,  0],\n",
       "       [ 0,  1,  0,  1,  0,  0,  0,  0,  0,  0,  0,  0,  0,  3,  0,  1,\n",
       "         0,  0,  0,  1,  0,  0,  0,  7]], dtype=int64)"
      ]
     },
     "execution_count": 14,
     "metadata": {},
     "output_type": "execute_result"
    }
   ],
   "source": [
    "y_pred=neigh.predict(X_test)\n",
    "confusion_matrix(y_test, y_pred)"
   ]
  },
  {
   "cell_type": "code",
   "execution_count": 15,
   "id": "2ef8c7f5-4f2a-46f4-a3cc-b8cabee6a9a5",
   "metadata": {},
   "outputs": [
    {
     "name": "stdout",
     "output_type": "stream",
     "text": [
      "Model accuracy score with rbf kernel and C=1000.0 : 0.4194\n"
     ]
    }
   ],
   "source": [
    "print('Model accuracy score with rbf kernel and C=1000.0 : {0:0.4f}'. format(accuracy_score(y_test, y_pred)))"
   ]
  },
  {
   "cell_type": "code",
   "execution_count": 16,
   "id": "cd203cd2-bd9d-413c-8786-1e9e725960a4",
   "metadata": {},
   "outputs": [
    {
     "data": {
      "image/png": "[encoded data removed]",
      "text/plain": [
       "<Figure size 864x720 with 2 Axes>"
      ]
     },
     "metadata": {
      "needs_background": "light"
     },
     "output_type": "display_data"
    }
   ],
   "source": [
    "plt.figure(figsize = (12, 10))\n",
    "sns.heatmap(confusion_matrix(y_test, y_pred), \n",
    "            annot = True, linewidths = 2, fmt=\"d\") \n",
    "           \n",
    "plt.show()"
   ]
  },
  {
   "cell_type": "code",
   "execution_count": 17,
   "id": "296af55a-6438-4593-bf38-45187a0bdc1f",
   "metadata": {},
   "outputs": [
    {
     "name": "stdout",
     "output_type": "stream",
     "text": [
      "              precision    recall  f1-score   support\n",
      "\n",
      "           1       0.20      0.29      0.24        14\n",
      "           2       0.33      0.50      0.40        20\n",
      "           3       0.19      0.29      0.23        14\n",
      "           4       0.35      0.60      0.44        15\n",
      "           5       0.31      0.29      0.30        14\n",
      "           6       0.75      0.64      0.69        14\n",
      "           7       0.21      0.23      0.22        13\n",
      "           8       0.38      0.56      0.45         9\n",
      "           9       0.44      0.50      0.47        16\n",
      "          10       0.73      0.53      0.62        15\n",
      "          11       0.33      0.25      0.29        12\n",
      "          12       0.42      0.31      0.36        16\n",
      "          13       0.42      0.50      0.46        16\n",
      "          14       0.39      0.39      0.39        18\n",
      "          15       0.32      0.50      0.39        12\n",
      "          16       0.53      0.50      0.52        16\n",
      "          17       0.69      0.47      0.56        19\n",
      "          18       0.55      0.38      0.44        16\n",
      "          19       0.60      0.13      0.21        23\n",
      "          20       0.38      0.20      0.26        15\n",
      "          21       0.86      0.75      0.80        16\n",
      "          22       0.33      0.56      0.42         9\n",
      "          23       0.45      0.36      0.40        14\n",
      "          24       0.54      0.50      0.52        14\n",
      "\n",
      "    accuracy                           0.42       360\n",
      "   macro avg       0.45      0.43      0.42       360\n",
      "weighted avg       0.46      0.42      0.42       360\n",
      "\n"
     ]
    }
   ],
   "source": [
    "from sklearn.metrics import classification_report\n",
    "print(classification_report(y_test, y_pred))"
   ]
  },
  {
   "cell_type": "code",
   "execution_count": null,
   "id": "f4106a5b-b375-467f-9399-522ad4c3eb7c",
   "metadata": {},
   "outputs": [],
   "source": []
  }
 ],
 "metadata": {
  "kernelspec": {
   "display_name": "Python 3 (ipykernel)",
   "language": "python",
   "name": "python3"
  },
  "language_info": {
   "codemirror_mode": {
    "name": "ipython",
    "version": 3
   },
   "file_extension": ".py",
   "mimetype": "text/x-python",
   "name": "python",
   "nbconvert_exporter": "python",
   "pygments_lexer": "ipython3",
   "version": "3.10.0"
  }
 },
 "nbformat": 4,
 "nbformat_minor": 5
}
