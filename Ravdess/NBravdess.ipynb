{
 "cells": [
  {
   "cell_type": "code",
   "execution_count": 1,
   "id": "b0a70c49-1a69-414b-a304-3801d94e6f28",
   "metadata": {},
   "outputs": [],
   "source": [
    "import pandas as pd\n",
    "import numpy as np\n",
    "import matplotlib.pyplot as plt\n",
    "import seaborn as sns"
   ]
  },
  {
   "cell_type": "code",
   "execution_count": 2,
   "id": "86120430-0524-491b-adec-74d875655617",
   "metadata": {},
   "outputs": [],
   "source": [
    "from sklearn.ensemble import RandomForestClassifier\n",
    "from sklearn.svm import SVC\n",
    "from sklearn.naive_bayes import GaussianNB\n",
    "\n",
    "from sklearn.model_selection import train_test_split\n",
    "from sklearn.metrics import classification_report, confusion_matrix\n",
    "from sklearn.model_selection import GridSearchCV\n",
    "from sklearn.preprocessing import MinMaxScaler"
   ]
  },
  {
   "cell_type": "code",
   "execution_count": 3,
   "id": "114596b8-5b14-4373-9059-d811ae2ad1be",
   "metadata": {},
   "outputs": [],
   "source": [
    "import librosa\n",
    "import librosa.display\n",
    "import IPython.display as ipd"
   ]
  },
  {
   "cell_type": "code",
   "execution_count": 4,
   "id": "83a14af9-c435-44fe-aea2-b9f44db3348a",
   "metadata": {},
   "outputs": [
    {
     "data": {
      "text/html": [
       "<div>\n",
       "<style scoped>\n",
       "    .dataframe tbody tr th:only-of-type {\n",
       "        vertical-align: middle;\n",
       "    }\n",
       "\n",
       "    .dataframe tbody tr th {\n",
       "        vertical-align: top;\n",
       "    }\n",
       "\n",
       "    .dataframe thead th {\n",
       "        text-align: right;\n",
       "    }\n",
       "</style>\n",
       "<table border=\"1\" class=\"dataframe\">\n",
       "  <thead>\n",
       "    <tr style=\"text-align: right;\">\n",
       "      <th></th>\n",
       "      <th>Actor_ID</th>\n",
       "      <th>Folder_Name</th>\n",
       "      <th>File_Name</th>\n",
       "    </tr>\n",
       "  </thead>\n",
       "  <tbody>\n",
       "    <tr>\n",
       "      <th>0</th>\n",
       "      <td>1</td>\n",
       "      <td>Actor_01</td>\n",
       "      <td>03-01-01-01-01-01-01.wav</td>\n",
       "    </tr>\n",
       "    <tr>\n",
       "      <th>1</th>\n",
       "      <td>1</td>\n",
       "      <td>Actor_01</td>\n",
       "      <td>03-01-01-01-01-02-01.wav</td>\n",
       "    </tr>\n",
       "    <tr>\n",
       "      <th>2</th>\n",
       "      <td>1</td>\n",
       "      <td>Actor_01</td>\n",
       "      <td>03-01-01-01-02-01-01.wav</td>\n",
       "    </tr>\n",
       "    <tr>\n",
       "      <th>3</th>\n",
       "      <td>1</td>\n",
       "      <td>Actor_01</td>\n",
       "      <td>03-01-01-01-02-02-01.wav</td>\n",
       "    </tr>\n",
       "    <tr>\n",
       "      <th>4</th>\n",
       "      <td>1</td>\n",
       "      <td>Actor_01</td>\n",
       "      <td>03-01-02-01-01-01-01.wav</td>\n",
       "    </tr>\n",
       "  </tbody>\n",
       "</table>\n",
       "</div>"
      ],
      "text/plain": [
       "   Actor_ID Folder_Name                 File_Name\n",
       "0         1    Actor_01  03-01-01-01-01-01-01.wav\n",
       "1         1    Actor_01  03-01-01-01-01-02-01.wav\n",
       "2         1    Actor_01  03-01-01-01-02-01-01.wav\n",
       "3         1    Actor_01  03-01-01-01-02-02-01.wav\n",
       "4         1    Actor_01  03-01-02-01-01-01-01.wav"
      ]
     },
     "execution_count": 4,
     "metadata": {},
     "output_type": "execute_result"
    }
   ],
   "source": [
    "df = pd.read_csv(\"D:\\\\Project Working\\\\RAVDESS\\\\actor_data.csv\")\n",
    "df.head()"
   ]
  },
  {
   "cell_type": "code",
   "execution_count": 5,
   "id": "d9f704d3-0b76-4266-904d-984063dddf87",
   "metadata": {},
   "outputs": [],
   "source": [
    "features = []\n",
    "labels = []\n",
    "\n",
    "def parser():\n",
    "    # Function to load files and extract features\n",
    "    for i in range(df.shape[0]):\n",
    "        file_name = 'D:\\\\Project Working\\\\RAVDESS\\\\' + str(df[\"Folder_Name\"][i]) + '\\\\' + df[\"File_Name\"][i]\n",
    "        # Here kaiser_fast is a technique used for faster extraction\n",
    "        data, sr = librosa.load(file_name, res_type='kaiser_fast') \n",
    "        mels = np.mean(librosa.feature.melspectrogram(y = data, sr = sr), axis=1)        \n",
    "        features.append(mels)\n",
    "        labels.append(df[\"Actor_ID\"][i])\n",
    "\n",
    "    return features, labels"
   ]
  },
  {
   "cell_type": "code",
   "execution_count": 6,
   "id": "d4eecbe3-095e-4860-8202-4646017e72da",
   "metadata": {},
   "outputs": [],
   "source": [
    "x, y = parser()"
   ]
  },
  {
   "cell_type": "code",
   "execution_count": 7,
   "id": "058e6923-36f6-4ba9-b9d2-538180c725c3",
   "metadata": {},
   "outputs": [
    {
     "name": "stdout",
     "output_type": "stream",
     "text": [
      "(1440, 128)\n",
      "(1440,)\n"
     ]
    }
   ],
   "source": [
    "X = np.array(x)\n",
    "Y = np.array(y)\n",
    "\n",
    "print(X.shape)\n",
    "print(Y.shape)"
   ]
  },
  {
   "cell_type": "code",
   "execution_count": 8,
   "id": "d3eb6238-f0da-4913-8df9-60606b96d29a",
   "metadata": {},
   "outputs": [],
   "source": [
    "X_train, X_test, y_train, y_test = train_test_split(X, Y, random_state = 1)"
   ]
  },
  {
   "cell_type": "code",
   "execution_count": 9,
   "id": "83af635c-5b96-47fc-a97e-9e3b457b1974",
   "metadata": {},
   "outputs": [
    {
     "data": {
      "text/plain": [
       "((1080, 128), (1080,), (360, 128), (360,))"
      ]
     },
     "execution_count": 9,
     "metadata": {},
     "output_type": "execute_result"
    }
   ],
   "source": [
    "X_train.shape, y_train.shape, X_test.shape, y_test.shape"
   ]
  },
  {
   "cell_type": "code",
   "execution_count": 10,
   "id": "a6c08781-3f8a-4647-a039-c2d1af7ecf7e",
   "metadata": {},
   "outputs": [],
   "source": [
    "nb = GaussianNB()\n",
    "\n",
    "# fit classifier to training set\n",
    "nb.fit(X_train, y_train)\n",
    "\n",
    "# make predictions on test set\n",
    "nb_probas = nb.predict_proba(X_test)"
   ]
  },
  {
   "cell_type": "code",
   "execution_count": 11,
   "id": "2e363287-a12c-4405-8e60-bd1beb747fa2",
   "metadata": {},
   "outputs": [
    {
     "data": {
      "text/plain": [
       "array([[ 0,  0,  1,  0,  0,  0,  0,  0,  0,  0,  0,  0,  0,  0, 11,  0,\n",
       "         1,  0,  0,  0,  0,  1,  0,  0],\n",
       "       [ 0,  1,  1,  0,  0,  0,  0, 10,  0,  0,  0,  1,  0,  0,  0,  0,\n",
       "         1,  0,  0,  0,  0,  6,  0,  0],\n",
       "       [ 0,  0,  1,  0,  0,  0,  0,  0,  0,  0,  1,  0,  0,  0, 11,  0,\n",
       "         0,  0,  0,  0,  0,  0,  1,  0],\n",
       "       [ 0,  2,  1,  3,  0,  0,  0,  8,  0,  0,  0,  0,  0,  0,  0,  0,\n",
       "         0,  0,  0,  0,  0,  1,  0,  0],\n",
       "       [ 0,  0,  0,  0,  1,  0,  0,  0,  0,  0,  0,  0,  0,  0, 10,  0,\n",
       "         0,  0,  0,  0,  0,  1,  2,  0],\n",
       "       [ 0,  0,  0,  0,  0,  1,  0, 12,  0,  0,  0,  0,  0,  0,  0,  0,\n",
       "         0,  1,  0,  0,  0,  0,  0,  0],\n",
       "       [ 0,  0,  0,  0,  0,  0,  0,  2,  0,  0,  0,  0,  0,  0, 11,  0,\n",
       "         0,  0,  0,  0,  0,  0,  0,  0],\n",
       "       [ 0,  0,  2,  0,  0,  0,  0,  7,  0,  0,  0,  0,  0,  0,  0,  0,\n",
       "         0,  0,  0,  0,  0,  0,  0,  0],\n",
       "       [ 0,  0,  0,  0,  0,  0,  0,  0,  0,  0,  0,  1,  0,  0, 14,  0,\n",
       "         0,  0,  0,  0,  1,  0,  0,  0],\n",
       "       [ 0,  0,  4,  0,  0,  0,  1,  4,  0,  1,  0,  0,  0,  0,  2,  0,\n",
       "         1,  0,  0,  0,  1,  0,  1,  0],\n",
       "       [ 0,  0,  2,  0,  0,  0,  0,  0,  0,  0,  0,  0,  0,  0, 10,  0,\n",
       "         0,  0,  0,  0,  0,  0,  0,  0],\n",
       "       [ 0,  0,  1,  0,  0,  0,  0, 10,  0,  0,  0,  2,  0,  0,  1,  0,\n",
       "         0,  0,  0,  0,  0,  2,  0,  0],\n",
       "       [ 0,  0,  1,  0,  0,  0,  0,  0,  0,  0,  0,  0,  0,  0, 15,  0,\n",
       "         0,  0,  0,  0,  0,  0,  0,  0],\n",
       "       [ 0,  0,  1,  1,  0,  3,  0, 10,  0,  0,  0,  0,  0,  0,  0,  1,\n",
       "         0,  2,  0,  0,  0,  0,  0,  0],\n",
       "       [ 0,  0,  0,  0,  0,  0,  0,  0,  0,  0,  0,  0,  0,  0, 12,  0,\n",
       "         0,  0,  0,  0,  0,  0,  0,  0],\n",
       "       [ 0,  0,  2,  0,  0,  0,  0,  5,  0,  0,  0,  0,  0,  0,  0,  1,\n",
       "         2,  0,  0,  0,  1,  5,  0,  0],\n",
       "       [ 0,  0,  2,  0,  0,  0,  0,  0,  0,  0,  0,  0,  0,  0, 11,  0,\n",
       "         5,  0,  0,  0,  0,  0,  1,  0],\n",
       "       [ 0,  0,  1,  0,  0,  0,  0,  5,  0,  0,  0,  1,  0,  0,  3,  0,\n",
       "         0,  1,  0,  0,  0,  5,  0,  0],\n",
       "       [ 0,  0,  4,  0,  0,  0,  0,  0,  0,  0,  0,  0,  0,  0, 19,  0,\n",
       "         0,  0,  0,  0,  0,  0,  0,  0],\n",
       "       [ 0,  0,  1,  0,  0,  0,  0,  8,  0,  0,  0,  0,  0,  1,  0,  0,\n",
       "         0,  0,  0,  2,  0,  3,  0,  0],\n",
       "       [ 0,  0,  0,  0,  0,  0,  0,  0,  0,  0,  0,  0,  0,  0,  3,  0,\n",
       "         8,  0,  0,  0,  4,  0,  1,  0],\n",
       "       [ 0,  0,  0,  0,  0,  0,  0,  3,  0,  0,  0,  0,  0,  0,  0,  0,\n",
       "         0,  0,  0,  0,  0,  6,  0,  0],\n",
       "       [ 0,  0,  0,  0,  1,  0,  0,  0,  0,  0,  0,  0,  0,  0, 11,  0,\n",
       "         1,  0,  0,  0,  0,  0,  1,  0],\n",
       "       [ 0,  1,  0,  0,  0,  0,  0,  9,  0,  0,  0,  0,  0,  0,  0,  0,\n",
       "         0,  0,  0,  0,  0,  1,  0,  3]], dtype=int64)"
      ]
     },
     "execution_count": 11,
     "metadata": {},
     "output_type": "execute_result"
    }
   ],
   "source": [
    "gnb = GaussianNB()\n",
    "y_pred = gnb.fit(X_train, y_train).predict(X_test)\n",
    "confusion_matrix(y_test, y_pred)"
   ]
  },
  {
   "cell_type": "code",
   "execution_count": 12,
   "id": "a8e094db-f5b3-4d14-9a81-849a9b2c35e9",
   "metadata": {},
   "outputs": [
    {
     "name": "stdout",
     "output_type": "stream",
     "text": [
      "Model accuracy score with rbf kernel and C=1000.0 : 0.1444\n"
     ]
    }
   ],
   "source": [
    "from sklearn.metrics import accuracy_score\n",
    "print('Model accuracy score with rbf kernel and C=1000.0 : {0:0.4f}'. format(accuracy_score(y_test, y_pred)))"
   ]
  },
  {
   "cell_type": "code",
   "execution_count": 14,
   "id": "6bfcb461-7b2b-40c6-89b7-bfcfeb507fcc",
   "metadata": {},
   "outputs": [
    {
     "data": {
      "image/png": "[encoded data removed]",
      "text/plain": [
       "<Figure size 864x720 with 2 Axes>"
      ]
     },
     "metadata": {
      "needs_background": "light"
     },
     "output_type": "display_data"
    }
   ],
   "source": [
    "plt.figure(figsize = (12, 10))\n",
    "sns.heatmap(confusion_matrix(y_test, y_pred), \n",
    "            annot = True, linewidths = 2, fmt=\"d\", \n",
    "           )\n",
    "plt.show()"
   ]
  },
  {
   "cell_type": "code",
   "execution_count": 15,
   "id": "334c4e5c-ab47-4a89-8512-4094150f4a91",
   "metadata": {},
   "outputs": [
    {
     "name": "stdout",
     "output_type": "stream",
     "text": [
      "              precision    recall  f1-score   support\n",
      "\n",
      "           1       0.00      0.00      0.00        14\n",
      "           2       0.25      0.05      0.08        20\n",
      "           3       0.04      0.07      0.05        14\n",
      "           4       0.75      0.20      0.32        15\n",
      "           5       0.50      0.07      0.12        14\n",
      "           6       0.25      0.07      0.11        14\n",
      "           7       0.00      0.00      0.00        13\n",
      "           8       0.08      0.78      0.14         9\n",
      "           9       0.00      0.00      0.00        16\n",
      "          10       1.00      0.07      0.12        15\n",
      "          11       0.00      0.00      0.00        12\n",
      "          12       0.40      0.12      0.19        16\n",
      "          13       0.00      0.00      0.00        16\n",
      "          14       0.00      0.00      0.00        18\n",
      "          15       0.08      1.00      0.15        12\n",
      "          16       0.50      0.06      0.11        16\n",
      "          17       0.26      0.26      0.26        19\n",
      "          18       0.25      0.06      0.10        16\n",
      "          19       0.00      0.00      0.00        23\n",
      "          20       1.00      0.13      0.24        15\n",
      "          21       0.57      0.25      0.35        16\n",
      "          22       0.19      0.67      0.30         9\n",
      "          23       0.14      0.07      0.10        14\n",
      "          24       1.00      0.21      0.35        14\n",
      "\n",
      "    accuracy                           0.14       360\n",
      "   macro avg       0.30      0.17      0.13       360\n",
      "weighted avg       0.30      0.14      0.12       360\n",
      "\n"
     ]
    },
    {
     "name": "stderr",
     "output_type": "stream",
     "text": [
      "C:\\Pythondj\\lib\\site-packages\\sklearn\\metrics\\_classification.py:1318: UndefinedMetricWarning: Precision and F-score are ill-defined and being set to 0.0 in labels with no predicted samples. Use `zero_division` parameter to control this behavior.\n",
      "  _warn_prf(average, modifier, msg_start, len(result))\n",
      "C:\\Pythondj\\lib\\site-packages\\sklearn\\metrics\\_classification.py:1318: UndefinedMetricWarning: Precision and F-score are ill-defined and being set to 0.0 in labels with no predicted samples. Use `zero_division` parameter to control this behavior.\n",
      "  _warn_prf(average, modifier, msg_start, len(result))\n",
      "C:\\Pythondj\\lib\\site-packages\\sklearn\\metrics\\_classification.py:1318: UndefinedMetricWarning: Precision and F-score are ill-defined and being set to 0.0 in labels with no predicted samples. Use `zero_division` parameter to control this behavior.\n",
      "  _warn_prf(average, modifier, msg_start, len(result))\n"
     ]
    }
   ],
   "source": [
    "print(classification_report(y_test, y_pred))"
   ]
  },
  {
   "cell_type": "code",
   "execution_count": null,
   "id": "9655202d-9591-489d-8410-980babf3c571",
   "metadata": {},
   "outputs": [],
   "source": []
  }
 ],
 "metadata": {
  "kernelspec": {
   "display_name": "Python 3 (ipykernel)",
   "language": "python",
   "name": "python3"
  },
  "language_info": {
   "codemirror_mode": {
    "name": "ipython",
    "version": 3
   },
   "file_extension": ".py",
   "mimetype": "text/x-python",
   "name": "python",
   "nbconvert_exporter": "python",
   "pygments_lexer": "ipython3",
   "version": "3.10.0"
  }
 },
 "nbformat": 4,
 "nbformat_minor": 5
}
